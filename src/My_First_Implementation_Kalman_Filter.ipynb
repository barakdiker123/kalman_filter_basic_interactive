{
 "cells": [
  {
   "cell_type": "code",
   "execution_count": null,
   "id": "b85fd90a",
   "metadata": {},
   "outputs": [],
   "source": [
    "import numpy as np "
   ]
  },
  {
   "cell_type": "code",
   "execution_count": null,
   "id": "be1674c5",
   "metadata": {},
   "outputs": [],
   "source": [
    "a = np.arange(15).reshape(3,5)"
   ]
  },
  {
   "cell_type": "code",
   "execution_count": null,
   "id": "6dfc278d",
   "metadata": {},
   "outputs": [
    {
     "data": {
      "text/plain": [
       "array([[ 0,  1,  2,  3,  4],\n",
       "       [ 5,  6,  7,  8,  9],\n",
       "       [10, 11, 12, 13, 14]])"
      ]
     },
     "execution_count": null,
     "metadata": {},
     "output_type": "execute_result"
    }
   ],
   "source": [
    "a"
   ]
  },
  {
   "cell_type": "code",
   "execution_count": null,
   "id": "4ad9cec9",
   "metadata": {},
   "outputs": [
    {
     "data": {
      "text/plain": [
       "array([ 0,  5, 10])"
      ]
     },
     "execution_count": null,
     "metadata": {},
     "output_type": "execute_result"
    }
   ],
   "source": [
    "a @ [1,0,0,0,0]"
   ]
  },
  {
   "cell_type": "code",
   "execution_count": null,
   "id": "88c9b7bc",
   "metadata": {},
   "outputs": [],
   "source": [
    "b = np.array([1,0,0,0,0])"
   ]
  },
  {
   "cell_type": "code",
   "execution_count": null,
   "id": "df96fbc5",
   "metadata": {},
   "outputs": [
    {
     "data": {
      "text/plain": [
       "array([[1],\n",
       "       [0],\n",
       "       [0],\n",
       "       [0],\n",
       "       [0]])"
      ]
     },
     "execution_count": null,
     "metadata": {},
     "output_type": "execute_result"
    }
   ],
   "source": [
    "b.reshape(5,1)"
   ]
  },
  {
   "cell_type": "code",
   "execution_count": null,
   "id": "4e4baa78",
   "metadata": {},
   "outputs": [
    {
     "data": {
      "text/plain": [
       "array([[ 0],\n",
       "       [ 5],\n",
       "       [10]])"
      ]
     },
     "execution_count": null,
     "metadata": {},
     "output_type": "execute_result"
    }
   ],
   "source": [
    "a @ b.reshape(5,1)"
   ]
  },
  {
   "cell_type": "code",
   "execution_count": null,
   "id": "67479aa3",
   "metadata": {},
   "outputs": [
    {
     "data": {
      "text/plain": [
       "array([ 0,  5, 10])"
      ]
     },
     "execution_count": null,
     "metadata": {},
     "output_type": "execute_result"
    }
   ],
   "source": [
    "c = a @ b.reshape(5,1)\n",
    "c.T.ravel() # ravel() flatten the array "
   ]
  },
  {
   "cell_type": "markdown",
   "id": "d020c9cf",
   "metadata": {},
   "source": [
    "# First implementation of kalman filter !! "
   ]
  },
  {
   "cell_type": "markdown",
   "id": "88caafa0",
   "metadata": {},
   "source": [
    "## Constant Velocity linear model of kalman filter \n",
    "\n",
    "\n",
    "\n"
   ]
  },
  {
   "cell_type": "markdown",
   "id": "50a37db4",
   "metadata": {},
   "source": [
    "$$x = \n",
    "[p^T \\, v^T]^T\n",
    "\\in \\mathbb{R}^{4\\times 1}$$"
   ]
  },
  {
   "cell_type": "markdown",
   "id": "8d35dce6",
   "metadata": {},
   "source": [
    "$$p^T = [p^x \\, p^y]$$"
   ]
  },
  {
   "cell_type": "code",
   "execution_count": null,
   "id": "e9448039",
   "metadata": {},
   "outputs": [],
   "source": [
    "p_0 = np.array([1,0]) # The initial position !"
   ]
  },
  {
   "cell_type": "markdown",
   "id": "7127002f",
   "metadata": {},
   "source": [
    "$$v^T = [ v^x \\, v^y]$$"
   ]
  },
  {
   "cell_type": "code",
   "execution_count": null,
   "id": "a979f305",
   "metadata": {},
   "outputs": [],
   "source": [
    "p_0 = np.array([1,1]) # The initial velocity !"
   ]
  },
  {
   "cell_type": "markdown",
   "id": "a65397d2",
   "metadata": {},
   "source": [
    "\\begin{equation}\n",
    "\\Phi ^{CV}= \n",
    "\\begin{pmatrix}\n",
    " I_{2\\times 2} & \\Delta t I_{2\\times 2} \\\\\n",
    " 0 & I_{2\\times 2}\n",
    "\\end{pmatrix}\n",
    "\\in \\mathbb{R}^{4\\times 4}\n",
    "\\end{equation}"
   ]
  },
  {
   "cell_type": "code",
   "execution_count": null,
   "id": "2f6d279e",
   "metadata": {},
   "outputs": [
    {
     "data": {
      "text/plain": [
       "array([[1. , 0. , 0.5, 0. ],\n",
       "       [0. , 1. , 0. , 0.5],\n",
       "       [0. , 0. , 1. , 0. ],\n",
       "       [0. , 0. , 0. , 1. ]])"
      ]
     },
     "execution_count": null,
     "metadata": {},
     "output_type": "execute_result"
    }
   ],
   "source": [
    "delta_t = 0.5\n",
    "upper = np.concatenate((np.eye(2),delta_t*np.eye(2)),axis=1)\n",
    "#np.concatenate(np.eye(2),np.eye(2))\n",
    "lower = np.concatenate((np.zeros((2,2)),np.eye(2)),axis=1)\n",
    "phi_cv = np.concatenate((upper,lower))\n",
    "phi_cv"
   ]
  },
  {
   "cell_type": "markdown",
   "id": "0de2cbd8",
   "metadata": {},
   "source": [
    "# Process noise covariance matrix\n",
    "\\begin{equation}\n",
    "Q^{CV}_k= \n",
    "\\begin{pmatrix}\n",
    " 0_{2\\times 2} & 0_{2\\times 2} \\\\\n",
    " 0_{2\\times 2} & \n",
    " \\begin{pmatrix}\n",
    " q_k^x & 0 \\\\\n",
    " 0 & q_k^y\n",
    " \\end{pmatrix}\n",
    "\\end{pmatrix}\n",
    "\\in \\mathbb{R}^{4\\times 4}\n",
    "\\end{equation}"
   ]
  },
  {
   "cell_type": "code",
   "execution_count": null,
   "id": "ed71359d",
   "metadata": {},
   "outputs": [
    {
     "data": {
      "text/plain": [
       "array([[0. , 0. , 0. , 0. ],\n",
       "       [0. , 0. , 0. , 0. ],\n",
       "       [0. , 0. , 0.2, 0. ],\n",
       "       [0. , 0. , 0. , 0.2]])"
      ]
     },
     "execution_count": null,
     "metadata": {},
     "output_type": "execute_result"
    }
   ],
   "source": [
    "Q = np.zeros((4,4))\n",
    "Q[2,2] = 0.2 # q_k^x\n",
    "Q[3,3] = 0.2 # q_k^y\n",
    "Q"
   ]
  },
  {
   "cell_type": "markdown",
   "id": "06559d3f",
   "metadata": {},
   "source": [
    "# measurement matrix \n",
    "\\begin{equation}\n",
    "H^{CV}=\n",
    "\\begin{pmatrix}\n",
    "I_{2\\times 2} & 0_{2 \\times 2}\n",
    "\\end{pmatrix}\n",
    "\\in \\mathbb{R}^{2\\times 4}\n",
    "\\end{equation}"
   ]
  },
  {
   "cell_type": "code",
   "execution_count": null,
   "id": "fa753be7",
   "metadata": {},
   "outputs": [
    {
     "data": {
      "text/plain": [
       "array([[1., 0., 0., 0.],\n",
       "       [0., 1., 0., 0.]])"
      ]
     },
     "execution_count": null,
     "metadata": {},
     "output_type": "execute_result"
    }
   ],
   "source": [
    "H_CV = np.concatenate((np.eye(2),np.zeros((2,2))),axis=1)\n",
    "H_CV"
   ]
  },
  {
   "cell_type": "code",
   "execution_count": null,
   "id": "756c3eb2",
   "metadata": {},
   "outputs": [
    {
     "data": {
      "text/plain": [
       "array([[1., 0.],\n",
       "       [1., 1.]])"
      ]
     },
     "execution_count": null,
     "metadata": {},
     "output_type": "execute_result"
    }
   ],
   "source": [
    "A = np.eye(2)\n",
    "A[0,1] = 1 \n",
    "np.linalg.inv(A)\n",
    "A.T"
   ]
  },
  {
   "cell_type": "markdown",
   "id": "007a4ffd",
   "metadata": {},
   "source": [
    "# Practical Code "
   ]
  },
  {
   "cell_type": "code",
   "execution_count": null,
   "id": "04e766c0",
   "metadata": {},
   "outputs": [],
   "source": [
    "def kalman_filter(x,P,phi,Q,H,R,z): # R is the measurement noise covariance \n",
    "    x_minus = phi @ x # Estimate position \n",
    "    P_minus = phi @ P @ phi.T + Q # estimate covariance matrix \n",
    "    K_k = P_minus @ H.T @ np.linalg.inv(H @ P_minus@ H.T+R)  # Kalman Gain\n",
    "    innovation = z - H @ x_minus\n",
    "    return x_minus + K_k @ innovation , P_minus - K_k@H@P_minus"
   ]
  },
  {
   "cell_type": "code",
   "execution_count": null,
   "id": "1a87892d",
   "metadata": {},
   "outputs": [
    {
     "data": {
      "text/plain": [
       "array([[1],\n",
       "       [0],\n",
       "       [0],\n",
       "       [0]])"
      ]
     },
     "execution_count": null,
     "metadata": {},
     "output_type": "execute_result"
    }
   ],
   "source": [
    "x_0 = np.array([1,0,0,0]).reshape(4,1)\n",
    "x_0"
   ]
  },
  {
   "cell_type": "code",
   "execution_count": null,
   "id": "7ce3720b",
   "metadata": {},
   "outputs": [
    {
     "data": {
      "text/plain": [
       "array([[1.],\n",
       "       [0.],\n",
       "       [0.],\n",
       "       [0.]])"
      ]
     },
     "execution_count": null,
     "metadata": {},
     "output_type": "execute_result"
    }
   ],
   "source": [
    "phi_cv @ x_0 "
   ]
  },
  {
   "cell_type": "code",
   "execution_count": null,
   "id": "bb30f59f",
   "metadata": {},
   "outputs": [
    {
     "data": {
      "text/plain": [
       "array([[ 0,  1,  2,  3],\n",
       "       [ 4,  5,  6,  7],\n",
       "       [ 8,  9, 10, 11],\n",
       "       [12, 13, 14, 15]])"
      ]
     },
     "execution_count": null,
     "metadata": {},
     "output_type": "execute_result"
    }
   ],
   "source": [
    "P_0 = np.arange(16).reshape(4,4)\n",
    "P_0"
   ]
  },
  {
   "cell_type": "code",
   "execution_count": null,
   "id": "c72dfe03",
   "metadata": {},
   "outputs": [],
   "source": [
    "z = np.array([0,1]).reshape(2,1)\n",
    "R = np.array([[1,2],\n",
    "              [1,-1]])"
   ]
  },
  {
   "cell_type": "code",
   "execution_count": null,
   "id": "6078fae4",
   "metadata": {},
   "outputs": [],
   "source": [
    "\n",
    "x_1 , P_1 = kalman_filter(x_0,P=P_0,phi=phi_cv,Q=Q,H=H_CV,R=R,z=z)"
   ]
  },
  {
   "cell_type": "code",
   "execution_count": null,
   "id": "dbc316b0",
   "metadata": {},
   "outputs": [
    {
     "data": {
      "text/plain": [
       "array([[ 0.4109589 ],\n",
       "       [-0.01369863],\n",
       "       [ 0.11872146],\n",
       "       [ 0.50228311]])"
      ]
     },
     "execution_count": null,
     "metadata": {},
     "output_type": "execute_result"
    }
   ],
   "source": [
    "x_1"
   ]
  },
  {
   "cell_type": "code",
   "execution_count": null,
   "id": "38741b60",
   "metadata": {},
   "outputs": [],
   "source": [
    "eigenvalues, eigenvectors = np.linalg.eig(np.array([[1, -1], [1, 1]]))"
   ]
  },
  {
   "cell_type": "code",
   "execution_count": null,
   "id": "5b447ca8",
   "metadata": {},
   "outputs": [
    {
     "data": {
      "text/plain": [
       "array([[0.70710678+0.j        , 0.70710678-0.j        ],\n",
       "       [0.        -0.70710678j, 0.        +0.70710678j]])"
      ]
     },
     "execution_count": null,
     "metadata": {},
     "output_type": "execute_result"
    }
   ],
   "source": [
    "eigenvectors"
   ]
  },
  {
   "cell_type": "code",
   "execution_count": null,
   "id": "6655b6b0",
   "metadata": {},
   "outputs": [
    {
     "data": {
      "text/plain": [
       "array([0.70710678+0.j        , 0.        -0.70710678j])"
      ]
     },
     "execution_count": null,
     "metadata": {},
     "output_type": "execute_result"
    }
   ],
   "source": [
    "eigenvectors[:,0] # The first eigen vector "
   ]
  },
  {
   "cell_type": "code",
   "execution_count": null,
   "id": "906c467f",
   "metadata": {},
   "outputs": [
    {
     "data": {
      "text/plain": [
       "array([[0.78082192, 1.2739726 ],\n",
       "       [1.2739726 , 0.65753425]])"
      ]
     },
     "execution_count": null,
     "metadata": {},
     "output_type": "execute_result"
    }
   ],
   "source": [
    "P_1[:2,:2]"
   ]
  },
  {
   "cell_type": "code",
   "execution_count": null,
   "id": "ef8462be",
   "metadata": {},
   "outputs": [
    {
     "data": {
      "text/plain": [
       "array([[ 0.78082192,  1.2739726 ,  0.95890411,  1.28767123],\n",
       "       [ 1.2739726 ,  0.65753425,  0.30136986, -0.10958904],\n",
       "       [ 0.95890411,  0.30136986,  0.25479452, -0.38356164],\n",
       "       [ 1.28767123, -0.10958904, -0.38356164, -1.11506849]])"
      ]
     },
     "execution_count": null,
     "metadata": {},
     "output_type": "execute_result"
    }
   ],
   "source": [
    "P_1"
   ]
  },
  {
   "cell_type": "code",
   "execution_count": null,
   "id": "0de9df21",
   "metadata": {},
   "outputs": [],
   "source": [
    "eigen_value, eigen_vector = np.linalg.eig(P_1[:2,:2])"
   ]
  },
  {
   "cell_type": "code",
   "execution_count": null,
   "id": "bc1b0273",
   "metadata": {},
   "outputs": [
    {
     "data": {
      "text/plain": [
       "array([0.72399259, 0.68980774])"
      ]
     },
     "execution_count": null,
     "metadata": {},
     "output_type": "execute_result"
    }
   ],
   "source": [
    "eigen_vector[:,0]"
   ]
  },
  {
   "cell_type": "code",
   "execution_count": null,
   "id": "bff61658",
   "metadata": {},
   "outputs": [
    {
     "data": {
      "text/plain": [
       "array([-0.68980774,  0.72399259])"
      ]
     },
     "execution_count": null,
     "metadata": {},
     "output_type": "execute_result"
    }
   ],
   "source": [
    "eigen_vector[:,1]"
   ]
  },
  {
   "cell_type": "code",
   "execution_count": null,
   "id": "09f6cc56",
   "metadata": {},
   "outputs": [
    {
     "data": {
      "text/plain": [
       "array([[ 0.72399259, -0.68980774],\n",
       "       [ 0.68980774,  0.72399259]])"
      ]
     },
     "execution_count": null,
     "metadata": {},
     "output_type": "execute_result"
    }
   ],
   "source": [
    "eigen_vector"
   ]
  },
  {
   "cell_type": "code",
   "execution_count": null,
   "id": "a6a608aa",
   "metadata": {},
   "outputs": [
    {
     "data": {
      "image/png": "[encoded data removed]",
      "text/plain": [
       "<Figure size 640x480 with 1 Axes>"
      ]
     },
     "metadata": {},
     "output_type": "display_data"
    }
   ],
   "source": [
    "#Example !! \n",
    "import numpy as np\n",
    "import matplotlib.pyplot as plt\n",
    "\n",
    "V = np.array([[1,1], [-2,2], [4,-7]])\n",
    "origin = np.array([[0, 0, 0],[0, 0, 0]]) # origin point\n",
    "\n",
    "plt.quiver(*origin, V[:,0], V[:,1], color=['r','b','g'], scale=21)\n",
    "plt.show()"
   ]
  },
  {
   "cell_type": "code",
   "execution_count": null,
   "id": "1a898a37",
   "metadata": {},
   "outputs": [
    {
     "data": {
      "image/png": "[encoded data removed]",
      "text/plain": [
       "<Figure size 640x480 with 1 Axes>"
      ]
     },
     "metadata": {},
     "output_type": "display_data"
    }
   ],
   "source": [
    "# TO DELETE \n",
    "import numpy as np\n",
    "import matplotlib.pyplot as plt\n",
    "\n",
    "origin = np.array([(0,1),(1,1)])\n",
    "V = np.array([(1,1), \n",
    "                   (1,1)]) # origin point\n",
    "\n",
    "plt.quiver(origin[:,0],origin[:,1], V[:,0], V[:,1], color=['r','b','g'], scale=21)\n",
    "plt.show()"
   ]
  },
  {
   "cell_type": "code",
   "execution_count": null,
   "id": "cecfd963",
   "metadata": {},
   "outputs": [],
   "source": [
    "eigen_value0, eigen_vector0 = np.linalg.eig(P_0[:2,:2])\n",
    "eigen_value1, eigen_vector1 = np.linalg.eig(P_1[:2,:2])"
   ]
  },
  {
   "cell_type": "code",
   "execution_count": null,
   "id": "31daf75e",
   "metadata": {},
   "outputs": [
    {
     "data": {
      "image/png": "[encoded data removed]",
      "text/plain": [
       "<Figure size 640x480 with 1 Axes>"
      ]
     },
     "metadata": {},
     "output_type": "display_data"
    }
   ],
   "source": [
    "#Example !! \n",
    "import numpy as np\n",
    "import matplotlib.pyplot as plt\n",
    "\n",
    "origin = np.array([x_0[:2],x_0[:2], x_1[:2], x_1[:2]])\n",
    "V = np.array([eigen_vector0[:,0]*eigen_value0[0], \n",
    "                   eigen_vector0[:,1]*eigen_value0[1], \n",
    "                   eigen_vector1[:,0]*eigen_value1[0],\n",
    "                   eigen_vector1[:,1]*eigen_value1[1]]) # origin point\n",
    "\n",
    "plt.quiver(origin[:,0],origin[:,1], V[:,0], V[:,1], color=['r','r','g','g'], scale=21)\n",
    "plt.show()"
   ]
  },
  {
   "cell_type": "code",
   "execution_count": null,
   "id": "fa111d0f",
   "metadata": {},
   "outputs": [
    {
     "data": {
      "text/plain": [
       "array([[[1.],\n",
       "        [0.]]])"
      ]
     },
     "execution_count": null,
     "metadata": {},
     "output_type": "execute_result"
    }
   ],
   "source": []
  },
  {
   "cell_type": "code",
   "execution_count": null,
   "id": "f01ae7c1",
   "metadata": {},
   "outputs": [
    {
     "data": {
      "text/plain": [
       "array([[ 0.4109589 ],\n",
       "       [-0.01369863]])"
      ]
     },
     "execution_count": null,
     "metadata": {},
     "output_type": "execute_result"
    }
   ],
   "source": [
    "x_1[:2]"
   ]
  },
  {
   "cell_type": "code",
   "execution_count": null,
   "id": "db45a129",
   "metadata": {},
   "outputs": [
    {
     "data": {
      "text/plain": [
       "array([[1],\n",
       "       [0],\n",
       "       [1],\n",
       "       [1]])"
      ]
     },
     "execution_count": null,
     "metadata": {},
     "output_type": "execute_result"
    }
   ],
   "source": [
    "pos = np.array([1,0]).reshape(2,1)\n",
    "v= np.array([1,1]).reshape(2,1)\n",
    "np.concatenate((pos,v),axis=0)"
   ]
  },
  {
   "cell_type": "markdown",
   "id": "5b714ea2",
   "metadata": {},
   "source": [
    "# Simple Linear Kalman filter \n",
    "## Constant velocity problem \n",
    "In direction (1,1)"
   ]
  },
  {
   "cell_type": "code",
   "execution_count": null,
   "id": "28fbeba7",
   "metadata": {},
   "outputs": [],
   "source": [
    "#x_0 = np.array([1,0,1,1]).reshape(4,1)\n",
    "P_0 = np.arange(16).reshape(4,4)\n",
    "z = np.array([0,1]).reshape(2,1)\n",
    "R = np.array([[10,0],\n",
    "              [0,10]])\n",
    "v= np.array([1,1]).reshape(2,1)\n",
    "pos = np.array([1,0]).reshape(2,1)\n",
    "x_0 = np.concatenate((pos,v),axis=0)"
   ]
  },
  {
   "cell_type": "code",
   "execution_count": null,
   "id": "36cb85de",
   "metadata": {},
   "outputs": [
    {
     "data": {
      "text/plain": [
       "array([[0. , 0. , 0. , 0. ],\n",
       "       [0. , 0. , 0. , 0. ],\n",
       "       [0. , 0. , 0.2, 0. ],\n",
       "       [0. , 0. , 0. , 0.2]])"
      ]
     },
     "execution_count": null,
     "metadata": {},
     "output_type": "execute_result"
    }
   ],
   "source": [
    "Q = np.zeros((4,4))\n",
    "Q[2,2] = 0.2 # q_k^x\n",
    "Q[3,3] = 0.2 # q_k^y\n",
    "Q"
   ]
  },
  {
   "cell_type": "code",
   "execution_count": null,
   "id": "00abb360",
   "metadata": {},
   "outputs": [
    {
     "data": {
      "text/plain": [
       "array([[1., 0., 0., 0.],\n",
       "       [0., 1., 0., 0.]])"
      ]
     },
     "execution_count": null,
     "metadata": {},
     "output_type": "execute_result"
    }
   ],
   "source": [
    "H_CV = np.concatenate((np.eye(2),np.zeros((2,2))),axis=1)\n",
    "H_CV"
   ]
  },
  {
   "cell_type": "code",
   "execution_count": null,
   "id": "8b6dc5f9",
   "metadata": {},
   "outputs": [
    {
     "data": {
      "text/plain": [
       "array([[1. , 0. , 0.5, 0. ],\n",
       "       [0. , 1. , 0. , 0.5],\n",
       "       [0. , 0. , 1. , 0. ],\n",
       "       [0. , 0. , 0. , 1. ]])"
      ]
     },
     "execution_count": null,
     "metadata": {},
     "output_type": "execute_result"
    }
   ],
   "source": [
    "delta_t = 0.5\n",
    "upper = np.concatenate((np.eye(2),delta_t*np.eye(2)),axis=1)\n",
    "lower = np.concatenate((np.zeros((2,2)),np.eye(2)),axis=1)\n",
    "phi_cv = np.concatenate((upper,lower))\n",
    "phi_cv"
   ]
  },
  {
   "cell_type": "code",
   "execution_count": null,
   "id": "bb33ac27",
   "metadata": {},
   "outputs": [],
   "source": [
    "x_n_minus_one = x_0\n",
    "P_n_minus_one = P_0\n",
    "location_arr = []\n",
    "location_uncertainty = []\n",
    "for t in np.arange(0, 10, 0.5):\n",
    "    location_arr.append(x_n_minus_one[:2])\n",
    "    location_arr.append(x_n_minus_one[:2])\n",
    "    eigen_value, eigen_vector = np.linalg.eig(P_n_minus_one[:2,:2])\n",
    "    location_uncertainty.append(eigen_vector[:,0]*eigen_value[0])\n",
    "    location_uncertainty.append(eigen_vector[:,1]*eigen_value[1])\n",
    "    z = v*t + x_0[:2]\n",
    "    x_n,P_n = kalman_filter(x_n_minus_one,\n",
    "                            P_n_minus_one,\n",
    "                            phi_cv,\n",
    "                            Q,\n",
    "                            H_CV,R,z)\n",
    "    #x_n,P_n = x_n_minus_one,P_n_minus_one\n",
    "    x_n_minus_one,P_n_minus_one =  x_n,P_n"
   ]
  },
  {
   "cell_type": "code",
   "execution_count": null,
   "id": "2d246cee",
   "metadata": {},
   "outputs": [],
   "source": [
    "origin = np.array(location_arr)\n",
    "V = np.array(location_uncertainty)"
   ]
  },
  {
   "cell_type": "code",
   "execution_count": null,
   "id": "278a0bd9",
   "metadata": {},
   "outputs": [
    {
     "data": {
      "image/png": "[encoded data removed]",
      "text/plain": [
       "<Figure size 640x480 with 1 Axes>"
      ]
     },
     "metadata": {},
     "output_type": "display_data"
    }
   ],
   "source": [
    "qui = plt.quiver(origin[:,0],origin[:,1], V[:,0], V[:,1], scale=21,color=[(0, 0, i) for i in np.linspace(0,1,40) ])\n",
    "#plt.quiverkey(qui, origin[:,0].ravel(), origin[:,1].ravel(), np.ones(origin[:,1].shape).ravel(), ['b' for _ in range(origin[:,1].shape[0])])\n",
    "#plt.quiverkey(qui,0.7,0,2,\"diker\")\n",
    "#plt.quiverkey(qui,4,4,100,\"barak\")\n",
    "\n",
    "plt.show()"
   ]
  },
  {
   "cell_type": "code",
   "execution_count": null,
   "id": "cbbade4d",
   "metadata": {},
   "outputs": [
    {
     "data": {
      "text/plain": [
       "array([[[ 1.        ],\n",
       "        [ 0.        ]],\n",
       "\n",
       "       [[ 1.        ],\n",
       "        [ 0.        ]],\n",
       "\n",
       "       [[ 1.        ],\n",
       "        [ 0.        ]],\n",
       "\n",
       "       [[ 1.        ],\n",
       "        [ 0.        ]],\n",
       "\n",
       "       [[ 1.37705333],\n",
       "        [ 0.59191592]],\n",
       "\n",
       "       [[ 1.37705333],\n",
       "        [ 0.59191592]],\n",
       "\n",
       "       [[ 1.89911088],\n",
       "        [ 1.31433928]],\n",
       "\n",
       "       [[ 1.89911088],\n",
       "        [ 1.31433928]],\n",
       "\n",
       "       [[ 2.55799177],\n",
       "        [ 2.14606006]],\n",
       "\n",
       "       [[ 2.55799177],\n",
       "        [ 2.14606006]],\n",
       "\n",
       "       [[ 3.34868667],\n",
       "        [ 3.05280394]],\n",
       "\n",
       "       [[ 3.34868667],\n",
       "        [ 3.05280394]],\n",
       "\n",
       "       [[ 4.25104591],\n",
       "        [ 3.93200088]],\n",
       "\n",
       "       [[ 4.25104591],\n",
       "        [ 3.93200088]],\n",
       "\n",
       "       [[ 5.38690581],\n",
       "        [ 4.54917487]],\n",
       "\n",
       "       [[ 5.38690581],\n",
       "        [ 4.54917487]],\n",
       "\n",
       "       [[ 8.09673173],\n",
       "        [ 3.54560838]],\n",
       "\n",
       "       [[ 8.09673173],\n",
       "        [ 3.54560838]],\n",
       "\n",
       "       [[-0.55087049],\n",
       "        [13.6325544 ]],\n",
       "\n",
       "       [[-0.55087049],\n",
       "        [13.6325544 ]],\n",
       "\n",
       "       [[ 4.04342159],\n",
       "        [10.66145126]],\n",
       "\n",
       "       [[ 4.04342159],\n",
       "        [10.66145126]],\n",
       "\n",
       "       [[ 5.13952367],\n",
       "        [11.09823927]],\n",
       "\n",
       "       [[ 5.13952367],\n",
       "        [11.09823927]],\n",
       "\n",
       "       [[ 5.81253301],\n",
       "        [11.9385035 ]],\n",
       "\n",
       "       [[ 5.81253301],\n",
       "        [11.9385035 ]],\n",
       "\n",
       "       [[ 6.3126323 ],\n",
       "        [12.95382871]],\n",
       "\n",
       "       [[ 6.3126323 ],\n",
       "        [12.95382871]],\n",
       "\n",
       "       [[ 6.64816606],\n",
       "        [14.16434695]],\n",
       "\n",
       "       [[ 6.64816606],\n",
       "        [14.16434695]],\n",
       "\n",
       "       [[ 6.56822507],\n",
       "        [15.91449363]],\n",
       "\n",
       "       [[ 6.56822507],\n",
       "        [15.91449363]],\n",
       "\n",
       "       [[ 0.39366976],\n",
       "        [25.69639942]],\n",
       "\n",
       "       [[ 0.39366976],\n",
       "        [25.69639942]],\n",
       "\n",
       "       [[11.1506184 ],\n",
       "        [13.16339003]],\n",
       "\n",
       "       [[11.1506184 ],\n",
       "        [13.16339003]],\n",
       "\n",
       "       [[10.51943398],\n",
       "        [15.64336365]],\n",
       "\n",
       "       [[10.51943398],\n",
       "        [15.64336365]],\n",
       "\n",
       "       [[10.74656939],\n",
       "        [16.99454145]],\n",
       "\n",
       "       [[10.74656939],\n",
       "        [16.99454145]]])"
      ]
     },
     "execution_count": null,
     "metadata": {},
     "output_type": "execute_result"
    }
   ],
   "source": [
    "origin"
   ]
  },
  {
   "cell_type": "code",
   "execution_count": null,
   "id": "1ff8cf91",
   "metadata": {},
   "outputs": [
    {
     "data": {
      "text/plain": [
       "40"
      ]
     },
     "execution_count": null,
     "metadata": {},
     "output_type": "execute_result"
    }
   ],
   "source": [
    "origin[:,1].shape[0]"
   ]
  },
  {
   "cell_type": "code",
   "execution_count": null,
   "id": "94d30888",
   "metadata": {},
   "outputs": [
    {
     "data": {
      "text/plain": [
       "array([1., 1., 1., 1., 1., 1., 1., 1., 1., 1., 1., 1., 1., 1., 1., 1., 1.,\n",
       "       1., 1., 1., 1., 1., 1., 1., 1., 1., 1., 1., 1., 1., 1., 1., 1., 1.,\n",
       "       1., 1., 1., 1., 1., 1.])"
      ]
     },
     "execution_count": null,
     "metadata": {},
     "output_type": "execute_result"
    }
   ],
   "source": [
    "np.ones(origin[:,1].shape).ravel()"
   ]
  },
  {
   "cell_type": "code",
   "execution_count": null,
   "id": "daa978d1",
   "metadata": {},
   "outputs": [
    {
     "data": {
      "text/plain": [
       "array([ 1.        ,  1.        ,  1.        ,  1.        ,  1.37705333,\n",
       "        1.37705333,  1.89911088,  1.89911088,  2.55799177,  2.55799177,\n",
       "        3.34868667,  3.34868667,  4.25104591,  4.25104591,  5.38690581,\n",
       "        5.38690581,  8.09673173,  8.09673173, -0.55087049, -0.55087049,\n",
       "        4.04342159,  4.04342159,  5.13952367,  5.13952367,  5.81253301,\n",
       "        5.81253301,  6.3126323 ,  6.3126323 ,  6.64816606,  6.64816606,\n",
       "        6.56822507,  6.56822507,  0.39366976,  0.39366976, 11.1506184 ,\n",
       "       11.1506184 , 10.51943398, 10.51943398, 10.74656939, 10.74656939])"
      ]
     },
     "execution_count": null,
     "metadata": {},
     "output_type": "execute_result"
    }
   ],
   "source": [
    "origin[:,0].ravel()"
   ]
  },
  {
   "cell_type": "code",
   "execution_count": null,
   "id": "693aad71",
   "metadata": {},
   "outputs": [
    {
     "data": {
      "text/plain": [
       "['b',\n",
       " 'b',\n",
       " 'b',\n",
       " 'b',\n",
       " 'b',\n",
       " 'b',\n",
       " 'b',\n",
       " 'b',\n",
       " 'b',\n",
       " 'b',\n",
       " 'b',\n",
       " 'b',\n",
       " 'b',\n",
       " 'b',\n",
       " 'b',\n",
       " 'b',\n",
       " 'b',\n",
       " 'b',\n",
       " 'b',\n",
       " 'b',\n",
       " 'b',\n",
       " 'b',\n",
       " 'b',\n",
       " 'b',\n",
       " 'b',\n",
       " 'b',\n",
       " 'b',\n",
       " 'b',\n",
       " 'b',\n",
       " 'b',\n",
       " 'b',\n",
       " 'b',\n",
       " 'b',\n",
       " 'b',\n",
       " 'b',\n",
       " 'b',\n",
       " 'b',\n",
       " 'b',\n",
       " 'b',\n",
       " 'b']"
      ]
     },
     "execution_count": null,
     "metadata": {},
     "output_type": "execute_result"
    }
   ],
   "source": [
    "['b' for _ in range(origin[:,1].shape[0])]"
   ]
  },
  {
   "cell_type": "code",
   "execution_count": null,
   "id": "74880e7b",
   "metadata": {},
   "outputs": [
    {
     "data": {
      "text/plain": [
       "array([0.        , 0.05263158, 0.10526316, 0.15789474, 0.21052632,\n",
       "       0.26315789, 0.31578947, 0.36842105, 0.42105263, 0.47368421,\n",
       "       0.52631579, 0.57894737, 0.63157895, 0.68421053, 0.73684211,\n",
       "       0.78947368, 0.84210526, 0.89473684, 0.94736842, 1.        ])"
      ]
     },
     "execution_count": null,
     "metadata": {},
     "output_type": "execute_result"
    }
   ],
   "source": [
    "np.linspace(0,1,20)"
   ]
  },
  {
   "cell_type": "markdown",
   "id": "6bc70429",
   "metadata": {},
   "source": [
    "# Example With different Velocities "
   ]
  },
  {
   "cell_type": "code",
   "execution_count": null,
   "id": "233f446d",
   "metadata": {},
   "outputs": [
    {
     "data": {
      "image/png": "[encoded data removed]",
      "text/plain": [
       "<Figure size 640x480 with 1 Axes>"
      ]
     },
     "metadata": {},
     "output_type": "display_data"
    }
   ],
   "source": [
    "#x_0 = np.array([1,0,1,1]).reshape(4,1)\n",
    "P_0 = np.arange(16).reshape(4,4)\n",
    "P_0 = np.array([\n",
    "    [1,2,3,4],\n",
    "    [2,1,2,3],\n",
    "    [3,2,1,2],\n",
    "    [4,3,2,1]\n",
    "])\n",
    "\n",
    "\n",
    "z = np.array([0,1]).reshape(2,1)\n",
    "R = np.array([[4,0],\n",
    "              [0,4]])\n",
    "v= np.array([1,1]).reshape(2,1)\n",
    "pos = np.array([1,0]).reshape(2,1)\n",
    "x_0 = np.concatenate((pos,v),axis=0)\n",
    "\n",
    "Q = np.zeros((4,4))\n",
    "Q[2,2] = 0.2 # q_k^x\n",
    "Q[3,3] = 0.2 # q_k^y\n",
    "Q\n",
    "\n",
    "H_CV = np.concatenate((np.eye(2),np.zeros((2,2))),axis=1)\n",
    "H_CV\n",
    "\n",
    "delta_t = 0.5\n",
    "upper = np.concatenate((np.eye(2),delta_t*np.eye(2)),axis=1)\n",
    "lower = np.concatenate((np.zeros((2,2)),np.eye(2)),axis=1)\n",
    "phi_cv = np.concatenate((upper,lower))\n",
    "phi_cv\n",
    "\n",
    "x_n_minus_one = x_0\n",
    "P_n_minus_one = P_0\n",
    "location_arr = []\n",
    "location_uncertainty = []\n",
    "for t in np.arange(0, 10, 0.5):\n",
    "    location_arr.append(x_n_minus_one[:2])\n",
    "    location_arr.append(x_n_minus_one[:2])\n",
    "    eigen_value, eigen_vector = np.linalg.eig(P_n_minus_one[:2,:2])\n",
    "    location_uncertainty.append(eigen_vector[:,0]*eigen_value[0])\n",
    "    location_uncertainty.append(eigen_vector[:,1]*eigen_value[1])\n",
    "    z = v*t + x_0[:2]\n",
    "    x_n,P_n = kalman_filter(x_n_minus_one,\n",
    "                            P_n_minus_one,\n",
    "                            phi_cv,\n",
    "                            Q,\n",
    "                            H_CV,R,z)\n",
    "    #x_n,P_n = x_n_minus_one,P_n_minus_one\n",
    "    x_n_minus_one,P_n_minus_one =  x_n,P_n\n",
    "\n",
    "origin = np.array(location_arr)\n",
    "V = np.array(location_uncertainty)\n",
    "\n",
    "qui = plt.quiver(origin[:,0],origin[:,1], V[:,0], V[:,1], scale=21,color=[(0, 0, i) for i in np.linspace(0,1,40) ])\n",
    "#plt.quiverkey(qui, origin[:,0].ravel(), origin[:,1].ravel(), np.ones(origin[:,1].shape).ravel(), ['b' for _ in range(origin[:,1].shape[0])])\n",
    "#plt.quiverkey(qui,0.7,0,2,\"diker\")\n",
    "#plt.quiverkey(qui,4,4,100,\"barak\")\n",
    "\n",
    "plt.show()\n"
   ]
  },
  {
   "cell_type": "code",
   "execution_count": null,
   "id": "16116a8a",
   "metadata": {},
   "outputs": [],
   "source": []
  },
  {
   "cell_type": "code",
   "execution_count": null,
   "id": "e8d62de9",
   "metadata": {},
   "outputs": [
    {
     "data": {
      "image/png": "[encoded data removed]",
      "text/plain": [
       "<Figure size 640x480 with 1 Axes>"
      ]
     },
     "metadata": {},
     "output_type": "display_data"
    }
   ],
   "source": [
    "plt.clf()\n",
    "plt.close()\n",
    "P_0 = np.array([\n",
    "    [1,2,3,4],\n",
    "    [2,1,2,3],\n",
    "    [3,2,1,2],\n",
    "    [4,3,2,1]\n",
    "])\n",
    "\n",
    "\n",
    "z = np.array([0,1]).reshape(2,1)\n",
    "R = np.array([[4,0],\n",
    "              [0,4]])\n",
    "v= np.array([1,1]).reshape(2,1)\n",
    "pos = np.array([1,0]).reshape(2,1)\n",
    "x_0 = np.concatenate((pos,v),axis=0)\n",
    "\n",
    "Q = np.zeros((4,4))\n",
    "Q[2,2] = 0.2 # q_k^x\n",
    "Q[3,3] = 0.2 # q_k^y\n",
    "Q\n",
    "\n",
    "H_CV = np.concatenate((np.eye(2),np.zeros((2,2))),axis=1)\n",
    "H_CV\n",
    "\n",
    "delta_t = 0.5\n",
    "upper = np.concatenate((np.eye(2),delta_t*np.eye(2)),axis=1)\n",
    "lower = np.concatenate((np.zeros((2,2)),np.eye(2)),axis=1)\n",
    "phi_cv = np.concatenate((upper,lower))\n",
    "phi_cv\n",
    "\n",
    "x_n_minus_one = x_0\n",
    "P_n_minus_one = P_0\n",
    "location_arr = []\n",
    "location_uncertainty = []\n",
    "time_dur = 100\n",
    "sample_size = np.arange(0, time_dur, 0.5).shape[0] *2\n",
    "for t in np.arange(0, time_dur, 0.5):\n",
    "    location_arr.append(x_n_minus_one[:2])\n",
    "    location_arr.append(x_n_minus_one[:2])\n",
    "    eigen_value, eigen_vector = np.linalg.eig(P_n_minus_one[:2,:2])\n",
    "    location_uncertainty.append(eigen_vector[:,0]*eigen_value[0])\n",
    "    location_uncertainty.append(eigen_vector[:,1]*eigen_value[1])\n",
    "    z = v*t + x_0[:2]\n",
    "    x_n,P_n = kalman_filter(x_n_minus_one,\n",
    "                            P_n_minus_one,\n",
    "                            phi_cv,\n",
    "                            Q,\n",
    "                            H_CV,R,z)\n",
    "    #x_n,P_n = x_n_minus_one,P_n_minus_one\n",
    "    x_n_minus_one,P_n_minus_one =  x_n,P_n\n",
    "\n",
    "origin = np.array(location_arr)\n",
    "V = np.array(location_uncertainty)\n",
    "\n",
    "qui = plt.quiver(origin[:,0],origin[:,1], V[:,0], V[:,1], scale=21,color=[(0, 0, i) for i in np.linspace(0,1,sample_size) ])\n",
    "#plt.quiverkey(qui, origin[:,0].ravel(), origin[:,1].ravel(), np.ones(origin[:,1].shape).ravel(), ['b' for _ in range(origin[:,1].shape[0])])\n",
    "#plt.quiverkey(qui,0.7,0,2,\"diker\")\n",
    "#plt.quiverkey(qui,4,4,100,\"barak\")\n",
    "\n",
    "plt.show()\n"
   ]
  },
  {
   "cell_type": "code",
   "execution_count": null,
   "id": "787c4a8b",
   "metadata": {},
   "outputs": [],
   "source": []
  },
  {
   "cell_type": "code",
   "execution_count": null,
   "id": "a2c82ac0",
   "metadata": {},
   "outputs": [
    {
     "data": {
      "image/png": "[encoded data removed]",
      "text/plain": [
       "<Figure size 640x480 with 1 Axes>"
      ]
     },
     "metadata": {},
     "output_type": "display_data"
    }
   ],
   "source": [
    "plt.clf()\n",
    "\n",
    "\n",
    "import numpy as np\n",
    "rng = np.random.default_rng(12345)\n",
    "rfloat = rng.random()\n",
    "#rfloat\n",
    "\n",
    "\n",
    "plt.close()\n",
    "P_0 = np.array([\n",
    "    [1,2,3,4],\n",
    "    [2,1,2,3],\n",
    "    [3,2,1,2],\n",
    "    [4,3,2,1]\n",
    "])\n",
    "\n",
    "\n",
    "z = np.array([0,1]).reshape(2,1)\n",
    "R = np.array([[4,0],\n",
    "              [0,4]])\n",
    "v= np.array([1,1]).reshape(2,1)\n",
    "pos = np.array([1,0]).reshape(2,1)\n",
    "x_0 = np.concatenate((pos,v),axis=0)\n",
    "\n",
    "Q = np.zeros((4,4))\n",
    "Q[1,1] = 20 # q_k^x\n",
    "Q[0,0] = 20 # q_k^y\n",
    "Q[2,2] = 4 # q_k^x\n",
    "Q[3,3] = 5 # q_k^y\n",
    "Q\n",
    "\n",
    "H_CV = np.concatenate((np.eye(2),np.zeros((2,2))),axis=1)\n",
    "H_CV\n",
    "\n",
    "delta_t = 7\n",
    "upper = np.concatenate((np.eye(2),delta_t*np.eye(2)),axis=1)\n",
    "lower = np.concatenate((np.zeros((2,2)),np.eye(2)),axis=1)\n",
    "phi_cv = np.concatenate((upper,lower))\n",
    "phi_cv\n",
    "\n",
    "x_n_minus_one = x_0\n",
    "P_n_minus_one = P_0\n",
    "location_arr = []\n",
    "location_uncertainty = []\n",
    "time_dur = 125\n",
    "time_jumps =delta_t\n",
    "sample_size = np.arange(0, time_dur, time_jumps).shape[0] *2\n",
    "for t in np.arange(0, time_dur, time_jumps):\n",
    "    location_arr.append(x_n_minus_one[:2])\n",
    "    location_arr.append(x_n_minus_one[:2])\n",
    "    eigen_value, eigen_vector = np.linalg.eig(P_n_minus_one[:2,:2])\n",
    "    location_uncertainty.append(eigen_vector[:,0]*eigen_value[0])\n",
    "    location_uncertainty.append(eigen_vector[:,1]*eigen_value[1])\n",
    "    z = v*t + x_0[:2] + 10*np.random.randn(2, 1) # np.array([20*(rng.random()-0.5),10*(rng.random()-0.5)]).reshape(2,1)\n",
    "    x_n,P_n = kalman_filter(x_n_minus_one,\n",
    "                            P_n_minus_one,\n",
    "                            phi_cv,\n",
    "                            Q,\n",
    "                            H_CV,R,z)\n",
    "    #x_n,P_n = x_n_minus_one,P_n_minus_one\n",
    "    x_n_minus_one,P_n_minus_one =  x_n,P_n\n",
    "\n",
    "origin = np.array(location_arr)\n",
    "V = np.array(location_uncertainty)\n",
    "\n",
    "qui = plt.quiver(origin[:,0],origin[:,1], V[:,0], V[:,1], scale=21,color=[(0, 0, i) for i in np.linspace(0,1,sample_size) ])\n",
    "#plt.quiverkey(qui, origin[:,0].ravel(), origin[:,1].ravel(), np.ones(origin[:,1].shape).ravel(), ['b' for _ in range(origin[:,1].shape[0])])\n",
    "#plt.quiverkey(qui,0.7,0,2,\"diker\")\n",
    "#plt.quiverkey(qui,4,4,100,\"barak\")\n",
    "\n",
    "plt.show()"
   ]
  },
  {
   "cell_type": "code",
   "execution_count": null,
   "id": "f75581c3",
   "metadata": {},
   "outputs": [
    {
     "data": {
      "text/plain": [
       "array([ 0,  2,  4,  6,  8, 10, 12, 14, 16, 18, 20, 22, 24, 26, 28, 30, 32,\n",
       "       34, 36, 38, 40, 42, 44, 46, 48, 50, 52, 54, 56, 58, 60, 62, 64, 66,\n",
       "       68, 70, 72, 74, 76, 78, 80, 82, 84, 86, 88, 90, 92, 94, 96, 98])"
      ]
     },
     "execution_count": null,
     "metadata": {},
     "output_type": "execute_result"
    }
   ],
   "source": [
    "np.arange(0, 100, 2)#.shape[0]"
   ]
  },
  {
   "cell_type": "code",
   "execution_count": null,
   "id": "f2a5ee38",
   "metadata": {},
   "outputs": [
    {
     "data": {
      "text/plain": [
       "0.9581797289213643"
      ]
     },
     "execution_count": null,
     "metadata": {},
     "output_type": "execute_result"
    }
   ],
   "source": [
    "rng.random()"
   ]
  },
  {
   "cell_type": "code",
   "execution_count": null,
   "id": "d7fc7b09",
   "metadata": {},
   "outputs": [],
   "source": []
  },
  {
   "cell_type": "code",
   "execution_count": null,
   "id": "ff94290d",
   "metadata": {},
   "outputs": [],
   "source": []
  }
 ],
 "metadata": {
  "kernelspec": {
   "display_name": "python3",
   "language": "python",
   "name": "python3"
  }
 },
 "nbformat": 4,
 "nbformat_minor": 5
}
